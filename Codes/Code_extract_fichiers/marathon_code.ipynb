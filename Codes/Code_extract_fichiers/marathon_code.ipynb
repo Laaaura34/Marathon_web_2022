{
 "cells": [
  {
   "cell_type": "code",
   "execution_count": 31,
   "id": "7297eed3",
   "metadata": {},
   "outputs": [],
   "source": [
    "import numpy as np\n",
    "import matplotlib.pyplot as plt\n",
    "import pandas as pd\n",
    "import seaborn as sns"
   ]
  },
  {
   "cell_type": "code",
   "execution_count": 112,
   "id": "1e9e71f8",
   "metadata": {},
   "outputs": [],
   "source": [
    "data= pd.read_excel(\"verif_.xlsx\", \"2020-2021\")\n"
   ]
  },
  {
   "cell_type": "code",
   "execution_count": 77,
   "id": "baaefa4f",
   "metadata": {},
   "outputs": [
    {
     "ename": "KeyError",
     "evalue": "'Annee'",
     "output_type": "error",
     "traceback": [
      "\u001b[1;31m---------------------------------------------------------------------------\u001b[0m",
      "\u001b[1;31mKeyError\u001b[0m                                  Traceback (most recent call last)",
      "\u001b[1;32m~\\anaconda3\\lib\\site-packages\\pandas\\core\\indexes\\base.py\u001b[0m in \u001b[0;36mget_loc\u001b[1;34m(self, key, method, tolerance)\u001b[0m\n\u001b[0;32m   3360\u001b[0m             \u001b[1;32mtry\u001b[0m\u001b[1;33m:\u001b[0m\u001b[1;33m\u001b[0m\u001b[1;33m\u001b[0m\u001b[0m\n\u001b[1;32m-> 3361\u001b[1;33m                 \u001b[1;32mreturn\u001b[0m \u001b[0mself\u001b[0m\u001b[1;33m.\u001b[0m\u001b[0m_engine\u001b[0m\u001b[1;33m.\u001b[0m\u001b[0mget_loc\u001b[0m\u001b[1;33m(\u001b[0m\u001b[0mcasted_key\u001b[0m\u001b[1;33m)\u001b[0m\u001b[1;33m\u001b[0m\u001b[1;33m\u001b[0m\u001b[0m\n\u001b[0m\u001b[0;32m   3362\u001b[0m             \u001b[1;32mexcept\u001b[0m \u001b[0mKeyError\u001b[0m \u001b[1;32mas\u001b[0m \u001b[0merr\u001b[0m\u001b[1;33m:\u001b[0m\u001b[1;33m\u001b[0m\u001b[1;33m\u001b[0m\u001b[0m\n",
      "\u001b[1;32m~\\anaconda3\\lib\\site-packages\\pandas\\_libs\\index.pyx\u001b[0m in \u001b[0;36mpandas._libs.index.IndexEngine.get_loc\u001b[1;34m()\u001b[0m\n",
      "\u001b[1;32m~\\anaconda3\\lib\\site-packages\\pandas\\_libs\\index.pyx\u001b[0m in \u001b[0;36mpandas._libs.index.IndexEngine.get_loc\u001b[1;34m()\u001b[0m\n",
      "\u001b[1;32mpandas\\_libs\\hashtable_class_helper.pxi\u001b[0m in \u001b[0;36mpandas._libs.hashtable.PyObjectHashTable.get_item\u001b[1;34m()\u001b[0m\n",
      "\u001b[1;32mpandas\\_libs\\hashtable_class_helper.pxi\u001b[0m in \u001b[0;36mpandas._libs.hashtable.PyObjectHashTable.get_item\u001b[1;34m()\u001b[0m\n",
      "\u001b[1;31mKeyError\u001b[0m: 'Annee'",
      "\nThe above exception was the direct cause of the following exception:\n",
      "\u001b[1;31mKeyError\u001b[0m                                  Traceback (most recent call last)",
      "\u001b[1;32m~\\AppData\\Local\\Temp/ipykernel_2280/507128875.py\u001b[0m in \u001b[0;36m<module>\u001b[1;34m\u001b[0m\n\u001b[0;32m      1\u001b[0m \u001b[1;31m#2016-2017\u001b[0m\u001b[1;33m\u001b[0m\u001b[1;33m\u001b[0m\u001b[0m\n\u001b[1;32m----> 2\u001b[1;33m \u001b[0mdata\u001b[0m\u001b[1;33m[\u001b[0m\u001b[1;33m[\u001b[0m\u001b[1;34m\"Régime d'inscription\"\u001b[0m\u001b[1;33m,\u001b[0m \u001b[0mdata\u001b[0m\u001b[1;33m[\u001b[0m\u001b[1;34m\"Annee\"\u001b[0m\u001b[1;33m]\u001b[0m\u001b[1;33m]\u001b[0m\u001b[1;33m]\u001b[0m\u001b[1;33m.\u001b[0m\u001b[0mvalue_counts\u001b[0m\u001b[1;33m(\u001b[0m\u001b[1;33m)\u001b[0m\u001b[1;33m\u001b[0m\u001b[1;33m\u001b[0m\u001b[0m\n\u001b[0m",
      "\u001b[1;32m~\\anaconda3\\lib\\site-packages\\pandas\\core\\frame.py\u001b[0m in \u001b[0;36m__getitem__\u001b[1;34m(self, key)\u001b[0m\n\u001b[0;32m   3456\u001b[0m             \u001b[1;32mif\u001b[0m \u001b[0mself\u001b[0m\u001b[1;33m.\u001b[0m\u001b[0mcolumns\u001b[0m\u001b[1;33m.\u001b[0m\u001b[0mnlevels\u001b[0m \u001b[1;33m>\u001b[0m \u001b[1;36m1\u001b[0m\u001b[1;33m:\u001b[0m\u001b[1;33m\u001b[0m\u001b[1;33m\u001b[0m\u001b[0m\n\u001b[0;32m   3457\u001b[0m                 \u001b[1;32mreturn\u001b[0m \u001b[0mself\u001b[0m\u001b[1;33m.\u001b[0m\u001b[0m_getitem_multilevel\u001b[0m\u001b[1;33m(\u001b[0m\u001b[0mkey\u001b[0m\u001b[1;33m)\u001b[0m\u001b[1;33m\u001b[0m\u001b[1;33m\u001b[0m\u001b[0m\n\u001b[1;32m-> 3458\u001b[1;33m             \u001b[0mindexer\u001b[0m \u001b[1;33m=\u001b[0m \u001b[0mself\u001b[0m\u001b[1;33m.\u001b[0m\u001b[0mcolumns\u001b[0m\u001b[1;33m.\u001b[0m\u001b[0mget_loc\u001b[0m\u001b[1;33m(\u001b[0m\u001b[0mkey\u001b[0m\u001b[1;33m)\u001b[0m\u001b[1;33m\u001b[0m\u001b[1;33m\u001b[0m\u001b[0m\n\u001b[0m\u001b[0;32m   3459\u001b[0m             \u001b[1;32mif\u001b[0m \u001b[0mis_integer\u001b[0m\u001b[1;33m(\u001b[0m\u001b[0mindexer\u001b[0m\u001b[1;33m)\u001b[0m\u001b[1;33m:\u001b[0m\u001b[1;33m\u001b[0m\u001b[1;33m\u001b[0m\u001b[0m\n\u001b[0;32m   3460\u001b[0m                 \u001b[0mindexer\u001b[0m \u001b[1;33m=\u001b[0m \u001b[1;33m[\u001b[0m\u001b[0mindexer\u001b[0m\u001b[1;33m]\u001b[0m\u001b[1;33m\u001b[0m\u001b[1;33m\u001b[0m\u001b[0m\n",
      "\u001b[1;32m~\\anaconda3\\lib\\site-packages\\pandas\\core\\indexes\\base.py\u001b[0m in \u001b[0;36mget_loc\u001b[1;34m(self, key, method, tolerance)\u001b[0m\n\u001b[0;32m   3361\u001b[0m                 \u001b[1;32mreturn\u001b[0m \u001b[0mself\u001b[0m\u001b[1;33m.\u001b[0m\u001b[0m_engine\u001b[0m\u001b[1;33m.\u001b[0m\u001b[0mget_loc\u001b[0m\u001b[1;33m(\u001b[0m\u001b[0mcasted_key\u001b[0m\u001b[1;33m)\u001b[0m\u001b[1;33m\u001b[0m\u001b[1;33m\u001b[0m\u001b[0m\n\u001b[0;32m   3362\u001b[0m             \u001b[1;32mexcept\u001b[0m \u001b[0mKeyError\u001b[0m \u001b[1;32mas\u001b[0m \u001b[0merr\u001b[0m\u001b[1;33m:\u001b[0m\u001b[1;33m\u001b[0m\u001b[1;33m\u001b[0m\u001b[0m\n\u001b[1;32m-> 3363\u001b[1;33m                 \u001b[1;32mraise\u001b[0m \u001b[0mKeyError\u001b[0m\u001b[1;33m(\u001b[0m\u001b[0mkey\u001b[0m\u001b[1;33m)\u001b[0m \u001b[1;32mfrom\u001b[0m \u001b[0merr\u001b[0m\u001b[1;33m\u001b[0m\u001b[1;33m\u001b[0m\u001b[0m\n\u001b[0m\u001b[0;32m   3364\u001b[0m \u001b[1;33m\u001b[0m\u001b[0m\n\u001b[0;32m   3365\u001b[0m         \u001b[1;32mif\u001b[0m \u001b[0mis_scalar\u001b[0m\u001b[1;33m(\u001b[0m\u001b[0mkey\u001b[0m\u001b[1;33m)\u001b[0m \u001b[1;32mand\u001b[0m \u001b[0misna\u001b[0m\u001b[1;33m(\u001b[0m\u001b[0mkey\u001b[0m\u001b[1;33m)\u001b[0m \u001b[1;32mand\u001b[0m \u001b[1;32mnot\u001b[0m \u001b[0mself\u001b[0m\u001b[1;33m.\u001b[0m\u001b[0mhasnans\u001b[0m\u001b[1;33m:\u001b[0m\u001b[1;33m\u001b[0m\u001b[1;33m\u001b[0m\u001b[0m\n",
      "\u001b[1;31mKeyError\u001b[0m: 'Annee'"
     ]
    }
   ],
   "source": [
    "#2016-2017\n",
    "data[[\"Régime d'inscription\", data[\"Annee\"]]].value_counts()\n"
   ]
  },
  {
   "cell_type": "code",
   "execution_count": 78,
   "id": "93c1ce28",
   "metadata": {},
   "outputs": [
    {
     "data": {
      "text/plain": [
       "initiale      711\n",
       "apprentis     202\n",
       "continue       78\n",
       "permanente     41\n",
       "cont prof      23\n",
       "Name: Régime d'inscription, dtype: int64"
      ]
     },
     "execution_count": 78,
     "metadata": {},
     "output_type": "execute_result"
    }
   ],
   "source": [
    "#2017-2018\n",
    "data[\"Régime d'inscription\"].value_counts()"
   ]
  },
  {
   "cell_type": "code",
   "execution_count": 55,
   "id": "d2d26c42",
   "metadata": {},
   "outputs": [
    {
     "data": {
      "text/plain": [
       "132"
      ]
     },
     "execution_count": 55,
     "metadata": {},
     "output_type": "execute_result"
    }
   ],
   "source": [
    "#2018-2019\n",
    "data[\"Régime d'inscription\"].value_counts()\n",
    "103+29"
   ]
  },
  {
   "cell_type": "code",
   "execution_count": 56,
   "id": "64bb51a5",
   "metadata": {},
   "outputs": [
    {
     "data": {
      "text/plain": [
       "144"
      ]
     },
     "execution_count": 56,
     "metadata": {},
     "output_type": "execute_result"
    }
   ],
   "source": [
    "#2019-2020\n",
    "data[\"Régime d'inscription\"].value_counts()\n",
    "119+25"
   ]
  },
  {
   "cell_type": "code",
   "execution_count": 57,
   "id": "9d9f33ae",
   "metadata": {},
   "outputs": [
    {
     "data": {
      "text/plain": [
       "225"
      ]
     },
     "execution_count": 57,
     "metadata": {},
     "output_type": "execute_result"
    }
   ],
   "source": [
    "#2020-2021\n",
    "data[\"Régime d'inscription\"].value_counts()\n",
    "202+23"
   ]
  },
  {
   "cell_type": "code",
   "execution_count": 59,
   "id": "fe6022f8",
   "metadata": {},
   "outputs": [
    {
     "data": {
      "text/plain": [
       "225"
      ]
     },
     "execution_count": 59,
     "metadata": {},
     "output_type": "execute_result"
    }
   ],
   "source": [
    "#2021-2022\n",
    "data[\"Régime d'inscription\"].value_counts()\n",
    "202+23"
   ]
  },
  {
   "cell_type": "code",
   "execution_count": null,
   "id": "1d29fdc3",
   "metadata": {},
   "outputs": [],
   "source": []
  },
  {
   "cell_type": "code",
   "execution_count": null,
   "id": "174fa63c",
   "metadata": {},
   "outputs": [],
   "source": []
  },
  {
   "cell_type": "code",
   "execution_count": 17,
   "id": "ecb5e6fc",
   "metadata": {},
   "outputs": [],
   "source": [
    "import glob  "
   ]
  },
  {
   "cell_type": "code",
   "execution_count": 79,
   "id": "0c34158d",
   "metadata": {},
   "outputs": [],
   "source": [
    "data_marat=pd.read_excel(\"donnees_etudiants.xlsx\") "
   ]
  },
  {
   "cell_type": "code",
   "execution_count": 114,
   "id": "68ca6f5b",
   "metadata": {},
   "outputs": [
    {
     "data": {
      "text/plain": [
       "(6481, 8)"
      ]
     },
     "execution_count": 114,
     "metadata": {},
     "output_type": "execute_result"
    }
   ],
   "source": [
    "data_marat.shape"
   ]
  },
  {
   "cell_type": "code",
   "execution_count": 102,
   "id": "5e30c208",
   "metadata": {},
   "outputs": [
    {
     "data": {
      "text/plain": [
       "Regime_inscription  Annee \n",
       "initiale            2017.0    1070\n",
       "                    2019.0     832\n",
       "                    2018.0     813\n",
       "                    2020.0     749\n",
       "                    2021.0     711\n",
       "                    2022.0     553\n",
       "apprentis           2022.0     288\n",
       "                    2021.0     202\n",
       "                    2020.0     119\n",
       "continue            2017.0     103\n",
       "apprentis           2019.0     103\n",
       "continue            2018.0      98\n",
       "                    2020.0      82\n",
       "                    2021.0      78\n",
       "apprentis           2018.0      73\n",
       "continue            2022.0      71\n",
       "permanente          2018.0      69\n",
       "                    2017.0      64\n",
       "continue            2019.0      64\n",
       "permanente          2020.0      50\n",
       "apprentis           2017.0      49\n",
       "permanente          2021.0      41\n",
       "                    2019.0      37\n",
       "cont prof           2019.0      29\n",
       "                    2022.0      27\n",
       "                    2020.0      25\n",
       "                    2018.0      25\n",
       "                    2021.0      23\n",
       "permanente          2022.0      19\n",
       "cont prof           2017.0      14\n",
       "dtype: int64"
      ]
     },
     "execution_count": 102,
     "metadata": {},
     "output_type": "execute_result"
    }
   ],
   "source": [
    "data_marat[[\"Regime_inscription\", \"Annee\"]].value_counts()"
   ]
  },
  {
   "cell_type": "code",
   "execution_count": 109,
   "id": "84791dab",
   "metadata": {},
   "outputs": [
    {
     "data": {
      "text/plain": [
       "array([<AxesSubplot:ylabel='Nationalite'>], dtype=object)"
      ]
     },
     "execution_count": 109,
     "metadata": {},
     "output_type": "execute_result"
    },
    {
     "data": {
      "image/png": "[encoded data removed]",
      "text/plain": [
       "<Figure size 432x288 with 1 Axes>"
      ]
     },
     "metadata": {},
     "output_type": "display_data"
    }
   ],
   "source": [
    "data_marat[\"Nationalite\"].value_counts().plot.pie(subplots=True)"
   ]
  },
  {
   "cell_type": "code",
   "execution_count": 110,
   "id": "e82ab1c4",
   "metadata": {},
   "outputs": [
    {
     "data": {
      "text/plain": [
       "array([<AxesSubplot:ylabel='Sexe'>], dtype=object)"
      ]
     },
     "execution_count": 110,
     "metadata": {},
     "output_type": "execute_result"
    },
    {
     "data": {
      "image/png": "[encoded data removed]",
      "text/plain": [
       "<Figure size 432x288 with 1 Axes>"
      ]
     },
     "metadata": {},
     "output_type": "display_data"
    }
   ],
   "source": [
    "data_marat[\"Sexe\"].value_counts().plot.pie(subplots=True)"
   ]
  },
  {
   "cell_type": "code",
   "execution_count": 111,
   "id": "6303185a",
   "metadata": {},
   "outputs": [
    {
     "data": {
      "text/plain": [
       "array([<AxesSubplot:ylabel='Regime_inscription'>], dtype=object)"
      ]
     },
     "execution_count": 111,
     "metadata": {},
     "output_type": "execute_result"
    },
    {
     "data": {
      "image/png": "[encoded data removed]",
      "text/plain": [
       "<Figure size 432x288 with 1 Axes>"
      ]
     },
     "metadata": {},
     "output_type": "display_data"
    }
   ],
   "source": [
    "data_marat[\"Regime_inscription\"].value_counts().plot.pie(subplots=True)"
   ]
  },
  {
   "cell_type": "code",
   "execution_count": 40,
   "id": "4b99cc2a",
   "metadata": {},
   "outputs": [
    {
     "data": {
      "text/plain": [
       "initiale      4728\n",
       "apprentis      834\n",
       "continue       496\n",
       "permanente     280\n",
       "cont prof      143\n",
       "Name: Regime_inscription, dtype: int64"
      ]
     },
     "execution_count": 40,
     "metadata": {},
     "output_type": "execute_result"
    }
   ],
   "source": [
    "data_marat[\"Regime_inscription\"].value_counts()"
   ]
  },
  {
   "cell_type": "code",
   "execution_count": 31,
   "id": "896b2b39",
   "metadata": {},
   "outputs": [],
   "source": [
    "list=[]\n",
    "colonnes=[1,2,3,4,5,6,7]"
   ]
  },
  {
   "cell_type": "code",
   "execution_count": 34,
   "id": "1f7f4259",
   "metadata": {},
   "outputs": [
    {
     "name": "stderr",
     "output_type": "stream",
     "text": [
      "C:\\Users\\abdou\\anaconda3\\lib\\site-packages\\pandas\\io\\excel\\_base.py:1272: FutureWarning: Defining usecols with out of bounds indices is deprecated and will raise a ParserError in a future version.\n",
      "  return self._reader.parse(\n"
     ]
    },
    {
     "data": {
      "text/html": [
       "<div>\n",
       "<style scoped>\n",
       "    .dataframe tbody tr th:only-of-type {\n",
       "        vertical-align: middle;\n",
       "    }\n",
       "\n",
       "    .dataframe tbody tr th {\n",
       "        vertical-align: top;\n",
       "    }\n",
       "\n",
       "    .dataframe thead th {\n",
       "        text-align: right;\n",
       "    }\n",
       "</style>\n",
       "<table border=\"1\" class=\"dataframe\">\n",
       "  <thead>\n",
       "    <tr style=\"text-align: right;\">\n",
       "      <th></th>\n",
       "      <th>initiale</th>\n",
       "      <th>F</th>\n",
       "      <th>FRANCAIS(E)</th>\n",
       "      <th>34130</th>\n",
       "      <th>MAUGUIO</th>\n",
       "      <th>1987-03-28 00:00:00</th>\n",
       "    </tr>\n",
       "  </thead>\n",
       "  <tbody>\n",
       "    <tr>\n",
       "      <th>0</th>\n",
       "      <td>initiale</td>\n",
       "      <td>F</td>\n",
       "      <td>FRANCAIS(E)</td>\n",
       "      <td>34090.0</td>\n",
       "      <td>MONTPELLIER</td>\n",
       "      <td>1998-07-30</td>\n",
       "    </tr>\n",
       "    <tr>\n",
       "      <th>1</th>\n",
       "      <td>initiale</td>\n",
       "      <td>F</td>\n",
       "      <td>FRANCAIS(E)</td>\n",
       "      <td>34800.0</td>\n",
       "      <td>CLERMONT-L'HERAULT</td>\n",
       "      <td>1998-01-18</td>\n",
       "    </tr>\n",
       "    <tr>\n",
       "      <th>2</th>\n",
       "      <td>initiale</td>\n",
       "      <td>F</td>\n",
       "      <td>FRANCAIS(E)</td>\n",
       "      <td>34560.0</td>\n",
       "      <td>POUSSAN</td>\n",
       "      <td>1998-11-25</td>\n",
       "    </tr>\n",
       "    <tr>\n",
       "      <th>3</th>\n",
       "      <td>initiale</td>\n",
       "      <td>F</td>\n",
       "      <td>FRANCAIS(E)</td>\n",
       "      <td>12100.0</td>\n",
       "      <td>MILLAU</td>\n",
       "      <td>1998-07-13</td>\n",
       "    </tr>\n",
       "    <tr>\n",
       "      <th>4</th>\n",
       "      <td>initiale</td>\n",
       "      <td>M</td>\n",
       "      <td>FRANCAIS(E)</td>\n",
       "      <td>34570.0</td>\n",
       "      <td>VAILHAUQUES</td>\n",
       "      <td>1997-05-24</td>\n",
       "    </tr>\n",
       "    <tr>\n",
       "      <th>...</th>\n",
       "      <td>...</td>\n",
       "      <td>...</td>\n",
       "      <td>...</td>\n",
       "      <td>...</td>\n",
       "      <td>...</td>\n",
       "      <td>...</td>\n",
       "    </tr>\n",
       "    <tr>\n",
       "      <th>1294</th>\n",
       "      <td>initiale</td>\n",
       "      <td>M</td>\n",
       "      <td>CHINOIS(E)</td>\n",
       "      <td>94000.0</td>\n",
       "      <td>CRETEIL</td>\n",
       "      <td>1986-08-18</td>\n",
       "    </tr>\n",
       "    <tr>\n",
       "      <th>1295</th>\n",
       "      <td>initiale</td>\n",
       "      <td>F</td>\n",
       "      <td>FRANCAIS(E)</td>\n",
       "      <td>59130.0</td>\n",
       "      <td>LAMBERSART</td>\n",
       "      <td>1993-11-06</td>\n",
       "    </tr>\n",
       "    <tr>\n",
       "      <th>1296</th>\n",
       "      <td>continue</td>\n",
       "      <td>F</td>\n",
       "      <td>FRANCAIS(E)</td>\n",
       "      <td>34070.0</td>\n",
       "      <td>MONTPELLIER</td>\n",
       "      <td>1986-12-19</td>\n",
       "    </tr>\n",
       "    <tr>\n",
       "      <th>1297</th>\n",
       "      <td>initiale</td>\n",
       "      <td>M</td>\n",
       "      <td>IRANIEN(NE)</td>\n",
       "      <td>34500.0</td>\n",
       "      <td>BEZIERS</td>\n",
       "      <td>1977-06-08</td>\n",
       "    </tr>\n",
       "    <tr>\n",
       "      <th>1298</th>\n",
       "      <td>initiale</td>\n",
       "      <td>M</td>\n",
       "      <td>FRANCAIS(E)</td>\n",
       "      <td>94320.0</td>\n",
       "      <td>THIAIS</td>\n",
       "      <td>1993-04-26</td>\n",
       "    </tr>\n",
       "  </tbody>\n",
       "</table>\n",
       "<p>3897 rows × 6 columns</p>\n",
       "</div>"
      ],
      "text/plain": [
       "      initiale  F  FRANCAIS(E)    34130             MAUGUIO  \\\n",
       "0     initiale  F  FRANCAIS(E)  34090.0         MONTPELLIER   \n",
       "1     initiale  F  FRANCAIS(E)  34800.0  CLERMONT-L'HERAULT   \n",
       "2     initiale  F  FRANCAIS(E)  34560.0             POUSSAN   \n",
       "3     initiale  F  FRANCAIS(E)  12100.0              MILLAU   \n",
       "4     initiale  M  FRANCAIS(E)  34570.0         VAILHAUQUES   \n",
       "...        ... ..          ...      ...                 ...   \n",
       "1294  initiale  M   CHINOIS(E)  94000.0             CRETEIL   \n",
       "1295  initiale  F  FRANCAIS(E)  59130.0          LAMBERSART   \n",
       "1296  continue  F  FRANCAIS(E)  34070.0         MONTPELLIER   \n",
       "1297  initiale  M  IRANIEN(NE)  34500.0             BEZIERS   \n",
       "1298  initiale  M  FRANCAIS(E)  94320.0              THIAIS   \n",
       "\n",
       "     1987-03-28 00:00:00  \n",
       "0             1998-07-30  \n",
       "1             1998-01-18  \n",
       "2             1998-11-25  \n",
       "3             1998-07-13  \n",
       "4             1997-05-24  \n",
       "...                  ...  \n",
       "1294          1986-08-18  \n",
       "1295          1993-11-06  \n",
       "1296          1986-12-19  \n",
       "1297          1977-06-08  \n",
       "1298          1993-04-26  \n",
       "\n",
       "[3897 rows x 6 columns]"
      ]
     },
     "execution_count": 34,
     "metadata": {},
     "output_type": "execute_result"
    }
   ],
   "source": [
    "for f in glob.glob(\"C:/Users/abdou/bureau/Bureau/Optim/alternants_upvm_2016-2022_.xls\"):\n",
    "    df=pd.read_excel(f,usecols=colonnes)\n",
    "    list.append(pd.read_excel(f,usecols=colonnes))\n",
    "    \n",
    "df=pd.concat(list, axis=0)\n",
    "df"
   ]
  },
  {
   "cell_type": "code",
   "execution_count": 35,
   "id": "8c0bd3b9",
   "metadata": {},
   "outputs": [
    {
     "name": "stderr",
     "output_type": "stream",
     "text": [
      "C:\\Users\\abdou\\AppData\\Local\\Temp/ipykernel_6140/2704334403.py:1: FutureWarning: As the xlwt package is no longer maintained, the xlwt engine will be removed in a future version of pandas. This is the only engine in pandas that supports writing in the xls format. Install openpyxl and write to an xlsx file instead. You can set the option io.excel.xls.writer to 'xlwt' to silence this warning. While this option is deprecated and will also raise a warning, it can be globally set and the warning suppressed.\n",
      "  data1Z=df.to_excel('extrac_marat.xls')\n"
     ]
    }
   ],
   "source": [
    "data1Z=df.to_excel('extrac_marat.xls')"
   ]
  },
  {
   "cell_type": "code",
   "execution_count": null,
   "id": "c6619447",
   "metadata": {},
   "outputs": [],
   "source": []
  },
  {
   "cell_type": "code",
   "execution_count": null,
   "id": "5343422b",
   "metadata": {},
   "outputs": [],
   "source": []
  },
  {
   "cell_type": "code",
   "execution_count": null,
   "id": "fda2a814",
   "metadata": {},
   "outputs": [],
   "source": []
  },
  {
   "cell_type": "code",
   "execution_count": 140,
   "id": "0864bfb1",
   "metadata": {},
   "outputs": [],
   "source": [
    "dat=pd.read_csv(\"recruteurs_2016-2021_net.csv\")"
   ]
  },
  {
   "cell_type": "code",
   "execution_count": 199,
   "id": "a2f06d4d",
   "metadata": {},
   "outputs": [
    {
     "data": {
      "text/html": [
       "<div>\n",
       "<style scoped>\n",
       "    .dataframe tbody tr th:only-of-type {\n",
       "        vertical-align: middle;\n",
       "    }\n",
       "\n",
       "    .dataframe tbody tr th {\n",
       "        vertical-align: top;\n",
       "    }\n",
       "\n",
       "    .dataframe thead th {\n",
       "        text-align: right;\n",
       "    }\n",
       "</style>\n",
       "<table border=\"1\" class=\"dataframe\">\n",
       "  <thead>\n",
       "    <tr style=\"text-align: right;\">\n",
       "      <th></th>\n",
       "      <th>Année</th>\n",
       "      <th>Formation</th>\n",
       "      <th>Régime d'inscription</th>\n",
       "      <th>Sexe</th>\n",
       "      <th>Nationalité</th>\n",
       "      <th>Code postal</th>\n",
       "      <th>Ville</th>\n",
       "      <th>Date_naissance</th>\n",
       "    </tr>\n",
       "  </thead>\n",
       "  <tbody>\n",
       "    <tr>\n",
       "      <th>0</th>\n",
       "      <td>2016-2017</td>\n",
       "      <td>DUT CS Opt Serv.pers.1è a</td>\n",
       "      <td>initiale</td>\n",
       "      <td>F</td>\n",
       "      <td>FRANCAIS(E)</td>\n",
       "      <td>34130.0</td>\n",
       "      <td>MAUGUIO</td>\n",
       "      <td>28/03/1987</td>\n",
       "    </tr>\n",
       "    <tr>\n",
       "      <th>1</th>\n",
       "      <td>2016-2017</td>\n",
       "      <td>DUT CS Opt Serv.pers.1è a</td>\n",
       "      <td>initiale</td>\n",
       "      <td>F</td>\n",
       "      <td>FRANCAIS(E)</td>\n",
       "      <td>34090.0</td>\n",
       "      <td>MONTPELLIER</td>\n",
       "      <td>30/07/1998</td>\n",
       "    </tr>\n",
       "    <tr>\n",
       "      <th>2</th>\n",
       "      <td>2016-2017</td>\n",
       "      <td>DUT CS Opt Serv.pers.1è a</td>\n",
       "      <td>initiale</td>\n",
       "      <td>F</td>\n",
       "      <td>FRANCAIS(E)</td>\n",
       "      <td>34800.0</td>\n",
       "      <td>CLERMONT-L'HERAULT</td>\n",
       "      <td>18/01/1998</td>\n",
       "    </tr>\n",
       "    <tr>\n",
       "      <th>3</th>\n",
       "      <td>2016-2017</td>\n",
       "      <td>DUT CS Opt Serv.pers.1è a</td>\n",
       "      <td>initiale</td>\n",
       "      <td>F</td>\n",
       "      <td>FRANCAIS(E)</td>\n",
       "      <td>34560.0</td>\n",
       "      <td>POUSSAN</td>\n",
       "      <td>25/11/1998</td>\n",
       "    </tr>\n",
       "    <tr>\n",
       "      <th>4</th>\n",
       "      <td>2016-2017</td>\n",
       "      <td>DUT CS Opt Serv.pers.1è a</td>\n",
       "      <td>initiale</td>\n",
       "      <td>F</td>\n",
       "      <td>FRANCAIS(E)</td>\n",
       "      <td>12100.0</td>\n",
       "      <td>MILLAU</td>\n",
       "      <td>13/07/1998</td>\n",
       "    </tr>\n",
       "    <tr>\n",
       "      <th>...</th>\n",
       "      <td>...</td>\n",
       "      <td>...</td>\n",
       "      <td>...</td>\n",
       "      <td>...</td>\n",
       "      <td>...</td>\n",
       "      <td>...</td>\n",
       "      <td>...</td>\n",
       "      <td>...</td>\n",
       "    </tr>\n",
       "    <tr>\n",
       "      <th>6476</th>\n",
       "      <td>2021-2022</td>\n",
       "      <td>M2 TO Pcs Tour.&amp; dév. dur</td>\n",
       "      <td>apprentis</td>\n",
       "      <td>M</td>\n",
       "      <td>FRANCAIS(E)</td>\n",
       "      <td>34410</td>\n",
       "      <td>SERIGNAN</td>\n",
       "      <td>25/04/1998</td>\n",
       "    </tr>\n",
       "    <tr>\n",
       "      <th>6477</th>\n",
       "      <td>2021-2022</td>\n",
       "      <td>M2 TO Pcs Tour.&amp; dév. dur</td>\n",
       "      <td>initiale</td>\n",
       "      <td>F</td>\n",
       "      <td>ALGERIEN(NE)</td>\n",
       "      <td>13100</td>\n",
       "      <td>AIX-EN-PROVENCE</td>\n",
       "      <td>25/05/1995</td>\n",
       "    </tr>\n",
       "    <tr>\n",
       "      <th>6478</th>\n",
       "      <td>2021-2022</td>\n",
       "      <td>M2 TO Pcs Tour.&amp; dév. dur</td>\n",
       "      <td>continue</td>\n",
       "      <td>M</td>\n",
       "      <td>FRANCAIS(E)</td>\n",
       "      <td>34470</td>\n",
       "      <td>PEROLS</td>\n",
       "      <td>21/09/1988</td>\n",
       "    </tr>\n",
       "    <tr>\n",
       "      <th>6479</th>\n",
       "      <td>2021-2022</td>\n",
       "      <td>M2 TO Pcs Tour.&amp; dév. dur</td>\n",
       "      <td>apprentis</td>\n",
       "      <td>F</td>\n",
       "      <td>FRANCAIS(E)</td>\n",
       "      <td>79270</td>\n",
       "      <td>FRONTENAY-ROHAN-ROHAN</td>\n",
       "      <td>10/01/1994</td>\n",
       "    </tr>\n",
       "    <tr>\n",
       "      <th>6480</th>\n",
       "      <td>2021-2022</td>\n",
       "      <td>M2 TO Pcs Tour.&amp; dév. dur</td>\n",
       "      <td>cont prof</td>\n",
       "      <td>F</td>\n",
       "      <td>FRANCAIS(E)</td>\n",
       "      <td>34500</td>\n",
       "      <td>BEZIERS</td>\n",
       "      <td>01/03/1970</td>\n",
       "    </tr>\n",
       "  </tbody>\n",
       "</table>\n",
       "<p>6481 rows × 8 columns</p>\n",
       "</div>"
      ],
      "text/plain": [
       "          Année                  Formation Régime d'inscription Sexe  \\\n",
       "0     2016-2017  DUT CS Opt Serv.pers.1è a             initiale    F   \n",
       "1     2016-2017  DUT CS Opt Serv.pers.1è a             initiale    F   \n",
       "2     2016-2017  DUT CS Opt Serv.pers.1è a             initiale    F   \n",
       "3     2016-2017  DUT CS Opt Serv.pers.1è a             initiale    F   \n",
       "4     2016-2017  DUT CS Opt Serv.pers.1è a             initiale    F   \n",
       "...         ...                        ...                  ...  ...   \n",
       "6476  2021-2022  M2 TO Pcs Tour.& dév. dur            apprentis    M   \n",
       "6477  2021-2022  M2 TO Pcs Tour.& dév. dur             initiale    F   \n",
       "6478  2021-2022  M2 TO Pcs Tour.& dév. dur             continue    M   \n",
       "6479  2021-2022  M2 TO Pcs Tour.& dév. dur            apprentis    F   \n",
       "6480  2021-2022  M2 TO Pcs Tour.& dév. dur            cont prof    F   \n",
       "\n",
       "       Nationalité Code postal                  Ville Date_naissance  \n",
       "0      FRANCAIS(E)     34130.0                MAUGUIO     28/03/1987  \n",
       "1      FRANCAIS(E)     34090.0            MONTPELLIER     30/07/1998  \n",
       "2      FRANCAIS(E)     34800.0     CLERMONT-L'HERAULT     18/01/1998  \n",
       "3      FRANCAIS(E)     34560.0                POUSSAN     25/11/1998  \n",
       "4      FRANCAIS(E)     12100.0                 MILLAU     13/07/1998  \n",
       "...            ...         ...                    ...            ...  \n",
       "6476   FRANCAIS(E)       34410               SERIGNAN     25/04/1998  \n",
       "6477  ALGERIEN(NE)       13100        AIX-EN-PROVENCE     25/05/1995  \n",
       "6478   FRANCAIS(E)       34470                 PEROLS     21/09/1988  \n",
       "6479   FRANCAIS(E)       79270  FRONTENAY-ROHAN-ROHAN     10/01/1994  \n",
       "6480   FRANCAIS(E)       34500                BEZIERS     01/03/1970  \n",
       "\n",
       "[6481 rows x 8 columns]"
      ]
     },
     "execution_count": 199,
     "metadata": {},
     "output_type": "execute_result"
    }
   ],
   "source": [
    "data_etu=pd.read_csv(\"donnees_etudiantsr.csv\", sep=';') \n",
    "data_etu"
   ]
  },
  {
   "cell_type": "code",
   "execution_count": 200,
   "id": "e50a495d",
   "metadata": {},
   "outputs": [
    {
     "data": {
      "text/plain": [
       "0       2016-2017\n",
       "1       2016-2017\n",
       "2       2016-2017\n",
       "3       2016-2017\n",
       "4       2016-2017\n",
       "          ...    \n",
       "6476    2021-2022\n",
       "6477    2021-2022\n",
       "6478    2021-2022\n",
       "6479    2021-2022\n",
       "6480    2021-2022\n",
       "Name: Année, Length: 6481, dtype: object"
      ]
     },
     "execution_count": 200,
     "metadata": {},
     "output_type": "execute_result"
    }
   ],
   "source": [
    "data_etu['Année']"
   ]
  },
  {
   "cell_type": "code",
   "execution_count": 201,
   "id": "bd5f6101",
   "metadata": {},
   "outputs": [
    {
     "data": {
      "text/plain": [
       "<AxesSubplot:xlabel='Année', ylabel='Formation'>"
      ]
     },
     "execution_count": 201,
     "metadata": {},
     "output_type": "execute_result"
    },
    {
     "data": {
      "image/png": "[encoded data removed]",
      "text/plain": [
       "<Figure size 432x288 with 1 Axes>"
      ]
     },
     "metadata": {
      "needs_background": "light"
     },
     "output_type": "display_data"
    }
   ],
   "source": [
    "sns.countplot(x='Année', data=data_etu)\n",
    "sns.regplot(x=data_etu['Année'], y=data_etu[\"Formation\"], fit_reg=False)"
   ]
  },
  {
   "cell_type": "code",
   "execution_count": null,
   "id": "6b9a9c97",
   "metadata": {},
   "outputs": [],
   "source": [
    "pd.read_fwf('path_to_csv', header=None, sep='\\n')"
   ]
  },
  {
   "cell_type": "code",
   "execution_count": 142,
   "id": "9b7d89f3",
   "metadata": {},
   "outputs": [
    {
     "data": {
      "text/plain": [
       "Unnamed: 0                      int64\n",
       "FORMATION                      object\n",
       "DATE_DEB_CONTRAT               object\n",
       "DATE_FIN_CONTRAT               object\n",
       "NOM_ENTREPRISE                 object\n",
       "CP_ENTREPRISE                 float64\n",
       "VILLE_ENTREPRISE               object\n",
       "FORME_JURIDIQUE_ENTREPRISE     object\n",
       "Année                          object\n",
       "dtype: object"
      ]
     },
     "execution_count": 142,
     "metadata": {},
     "output_type": "execute_result"
    }
   ],
   "source": [
    "dat.dtypes"
   ]
  },
  {
   "cell_type": "code",
   "execution_count": 146,
   "id": "08e503ba",
   "metadata": {},
   "outputs": [],
   "source": [
    "dats=dat[[\"Année\", \"FORMATION\", \"DATE_DEB_CONTRAT\", \"DATE_FIN_CONTRAT\", \"NOM_ENTREPRISE\", \"CP_ENTREPRISE\", \"VILLE_ENTREPRISE\", \"FORME_JURIDIQUE_ENTREPRISE\"]]"
   ]
  },
  {
   "cell_type": "code",
   "execution_count": 148,
   "id": "ace948ca",
   "metadata": {},
   "outputs": [
    {
     "name": "stderr",
     "output_type": "stream",
     "text": [
      "C:\\Users\\abdou\\AppData\\Local\\Temp/ipykernel_18700/1173935740.py:1: FutureWarning: As the xlwt package is no longer maintained, the xlwt engine will be removed in a future version of pandas. This is the only engine in pandas that supports writing in the xls format. Install openpyxl and write to an xlsx file instead. You can set the option io.excel.xls.writer to 'xlwt' to silence this warning. While this option is deprecated and will also raise a warning, it can be globally set and the warning suppressed.\n",
      "  data1Z=dats.to_excel('recruteurs_2016-2021.xls')\n"
     ]
    }
   ],
   "source": [
    "data1Z=dats.to_excel('recruteurs_2016-2021.xls')"
   ]
  },
  {
   "cell_type": "code",
   "execution_count": 153,
   "id": "08765444",
   "metadata": {},
   "outputs": [],
   "source": [
    "datsf=pd.read_excel(\"CB-alternants_upvm_2016-2022.xls\", \"2021-2022\")\n",
    "datsfsd=datsf.to_csv('recruteursFR_2021-2022.csv')"
   ]
  },
  {
   "cell_type": "code",
   "execution_count": 156,
   "id": "25c69287",
   "metadata": {},
   "outputs": [],
   "source": [
    "dar=pd.read_csv(\"recruteursFR_2021-2022.csv\")"
   ]
  },
  {
   "cell_type": "code",
   "execution_count": 165,
   "id": "5fc46adb",
   "metadata": {},
   "outputs": [
    {
     "data": {
      "text/plain": [
       "Index(['Unnamed: 0', 'FORMATION', 'Régime d'inscription', 'Individu - Sexe',\n",
       "       'Nationalité', 'Code postal-adresse', 'Ville-adresse',\n",
       "       'Naissance - Date', 'Année'],\n",
       "      dtype='object')"
      ]
     },
     "execution_count": 165,
     "metadata": {},
     "output_type": "execute_result"
    }
   ],
   "source": [
    "dar[\"Année\"]=\"2021-2022\"\n",
    "dar.columns"
   ]
  },
  {
   "cell_type": "code",
   "execution_count": 164,
   "id": "3bacb0cb",
   "metadata": {},
   "outputs": [
    {
     "name": "stderr",
     "output_type": "stream",
     "text": [
      "C:\\Users\\abdou\\AppData\\Local\\Temp/ipykernel_18700/2771976298.py:1: FutureWarning: As the xlwt package is no longer maintained, the xlwt engine will be removed in a future version of pandas. This is the only engine in pandas that supports writing in the xls format. Install openpyxl and write to an xlsx file instead. You can set the option io.excel.xls.writer to 'xlwt' to silence this warning. While this option is deprecated and will also raise a warning, it can be globally set and the warning suppressed.\n",
      "  donc=dar.to_excel('recruteurs_2021_2022_complet.xls')\n"
     ]
    }
   ],
   "source": [
    "donc=dar.to_excel('recruteurs_2021_2022_complet.xls')"
   ]
  },
  {
   "cell_type": "code",
   "execution_count": 163,
   "id": "86f3e682",
   "metadata": {},
   "outputs": [
    {
     "data": {
      "text/html": [
       "<div>\n",
       "<style scoped>\n",
       "    .dataframe tbody tr th:only-of-type {\n",
       "        vertical-align: middle;\n",
       "    }\n",
       "\n",
       "    .dataframe tbody tr th {\n",
       "        vertical-align: top;\n",
       "    }\n",
       "\n",
       "    .dataframe thead th {\n",
       "        text-align: right;\n",
       "    }\n",
       "</style>\n",
       "<table border=\"1\" class=\"dataframe\">\n",
       "  <thead>\n",
       "    <tr style=\"text-align: right;\">\n",
       "      <th></th>\n",
       "      <th>Année</th>\n",
       "      <th>FORMATION</th>\n",
       "      <th>DATE_DEB_CONTRAT</th>\n",
       "      <th>DATE_FIN_CONTRAT</th>\n",
       "      <th>NOM_ENTREPRISE</th>\n",
       "      <th>CP_ENTREPRISE</th>\n",
       "      <th>VILLE_ENTREPRISE</th>\n",
       "      <th>FORME_JURIDIQUE_ENTREPRISE</th>\n",
       "    </tr>\n",
       "  </thead>\n",
       "  <tbody>\n",
       "    <tr>\n",
       "      <th>0</th>\n",
       "      <td>2016-2017</td>\n",
       "      <td>LP RDN (métiers de l'info)</td>\n",
       "      <td>2016-09-01</td>\n",
       "      <td>2017-09-29</td>\n",
       "      <td>IFME</td>\n",
       "      <td>30000.0</td>\n",
       "      <td>NIMES</td>\n",
       "      <td>NaN</td>\n",
       "    </tr>\n",
       "    <tr>\n",
       "      <th>1</th>\n",
       "      <td>2016-2017</td>\n",
       "      <td>LP RDN (métiers de l'info)</td>\n",
       "      <td>2017-08-31</td>\n",
       "      <td>2017-08-31</td>\n",
       "      <td>CNRS MOY1100 ALPES</td>\n",
       "      <td>38042.0</td>\n",
       "      <td>GRENOBLE</td>\n",
       "      <td>Etablissement secondaire</td>\n",
       "    </tr>\n",
       "    <tr>\n",
       "      <th>2</th>\n",
       "      <td>2016-2017</td>\n",
       "      <td>LP RDN (métiers de l'info)</td>\n",
       "      <td>2016-08-29</td>\n",
       "      <td>2017-07-31</td>\n",
       "      <td>LANGUEDOC ROUSSILLON LIVRE ET LECTURE</td>\n",
       "      <td>34090.0</td>\n",
       "      <td>MONTPELLIER</td>\n",
       "      <td>ASSOCIATION</td>\n",
       "    </tr>\n",
       "    <tr>\n",
       "      <th>3</th>\n",
       "      <td>2016-2017</td>\n",
       "      <td>LP RDN (métiers de l'info)</td>\n",
       "      <td>2016-10-01</td>\n",
       "      <td>2017-08-31</td>\n",
       "      <td>MIND AND GO</td>\n",
       "      <td>66000.0</td>\n",
       "      <td>PERPIGNAN</td>\n",
       "      <td>NaN</td>\n",
       "    </tr>\n",
       "    <tr>\n",
       "      <th>4</th>\n",
       "      <td>2016-2017</td>\n",
       "      <td>M IDS ESSAP 1A</td>\n",
       "      <td>2016-09-22</td>\n",
       "      <td>2018-08-30</td>\n",
       "      <td>ADREA MUTUELLE</td>\n",
       "      <td>30018.0</td>\n",
       "      <td>NIMES</td>\n",
       "      <td>NaN</td>\n",
       "    </tr>\n",
       "    <tr>\n",
       "      <th>...</th>\n",
       "      <td>...</td>\n",
       "      <td>...</td>\n",
       "      <td>...</td>\n",
       "      <td>...</td>\n",
       "      <td>...</td>\n",
       "      <td>...</td>\n",
       "      <td>...</td>\n",
       "      <td>...</td>\n",
       "    </tr>\n",
       "    <tr>\n",
       "      <th>543</th>\n",
       "      <td>2020-2021</td>\n",
       "      <td>M MPCA 2A</td>\n",
       "      <td>2021-02-18</td>\n",
       "      <td>2021-08-31</td>\n",
       "      <td>LES FEES SPECIALES</td>\n",
       "      <td>34070.0</td>\n",
       "      <td>MONTPELLIER</td>\n",
       "      <td>SARL</td>\n",
       "    </tr>\n",
       "    <tr>\n",
       "      <th>544</th>\n",
       "      <td>2020-2021</td>\n",
       "      <td>M MPCA 2A</td>\n",
       "      <td>2020-09-01</td>\n",
       "      <td>2021-09-01</td>\n",
       "      <td>OOOLALA</td>\n",
       "      <td>26500.0</td>\n",
       "      <td>BOURG LES VALENCE</td>\n",
       "      <td>SARL</td>\n",
       "    </tr>\n",
       "    <tr>\n",
       "      <th>545</th>\n",
       "      <td>2020-2021</td>\n",
       "      <td>M PTO 2A</td>\n",
       "      <td>2020-11-23</td>\n",
       "      <td>2021-09-30</td>\n",
       "      <td>LA POSTE CENTRE FINANCIER</td>\n",
       "      <td>34000.0</td>\n",
       "      <td>MONTPELLIER</td>\n",
       "      <td>SA CA</td>\n",
       "    </tr>\n",
       "    <tr>\n",
       "      <th>546</th>\n",
       "      <td>2020-2021</td>\n",
       "      <td>M PTO 2A</td>\n",
       "      <td>2020-09-01</td>\n",
       "      <td>2021-09-30</td>\n",
       "      <td>CEA CADARACHE</td>\n",
       "      <td>13115.0</td>\n",
       "      <td>ST PAUL LES DURANCE</td>\n",
       "      <td>EPIC</td>\n",
       "    </tr>\n",
       "    <tr>\n",
       "      <th>547</th>\n",
       "      <td>2020-2021</td>\n",
       "      <td>M PTO 2A</td>\n",
       "      <td>2020-08-17</td>\n",
       "      <td>2021-09-30</td>\n",
       "      <td>EURHEKA</td>\n",
       "      <td>34500.0</td>\n",
       "      <td>BEZIERS</td>\n",
       "      <td>SARL</td>\n",
       "    </tr>\n",
       "  </tbody>\n",
       "</table>\n",
       "<p>548 rows × 8 columns</p>\n",
       "</div>"
      ],
      "text/plain": [
       "         Année                   FORMATION DATE_DEB_CONTRAT DATE_FIN_CONTRAT  \\\n",
       "0    2016-2017  LP RDN (métiers de l'info)       2016-09-01       2017-09-29   \n",
       "1    2016-2017  LP RDN (métiers de l'info)       2017-08-31       2017-08-31   \n",
       "2    2016-2017  LP RDN (métiers de l'info)       2016-08-29       2017-07-31   \n",
       "3    2016-2017  LP RDN (métiers de l'info)       2016-10-01       2017-08-31   \n",
       "4    2016-2017              M IDS ESSAP 1A       2016-09-22       2018-08-30   \n",
       "..         ...                         ...              ...              ...   \n",
       "543  2020-2021                   M MPCA 2A       2021-02-18       2021-08-31   \n",
       "544  2020-2021                   M MPCA 2A       2020-09-01       2021-09-01   \n",
       "545  2020-2021                    M PTO 2A       2020-11-23       2021-09-30   \n",
       "546  2020-2021                    M PTO 2A       2020-09-01       2021-09-30   \n",
       "547  2020-2021                    M PTO 2A       2020-08-17       2021-09-30   \n",
       "\n",
       "                            NOM_ENTREPRISE  CP_ENTREPRISE  \\\n",
       "0                                     IFME        30000.0   \n",
       "1                       CNRS MOY1100 ALPES        38042.0   \n",
       "2    LANGUEDOC ROUSSILLON LIVRE ET LECTURE        34090.0   \n",
       "3                              MIND AND GO        66000.0   \n",
       "4                           ADREA MUTUELLE        30018.0   \n",
       "..                                     ...            ...   \n",
       "543                     LES FEES SPECIALES        34070.0   \n",
       "544                                OOOLALA        26500.0   \n",
       "545              LA POSTE CENTRE FINANCIER        34000.0   \n",
       "546                          CEA CADARACHE        13115.0   \n",
       "547                                EURHEKA        34500.0   \n",
       "\n",
       "        VILLE_ENTREPRISE FORME_JURIDIQUE_ENTREPRISE  \n",
       "0                  NIMES                        NaN  \n",
       "1               GRENOBLE   Etablissement secondaire  \n",
       "2            MONTPELLIER                ASSOCIATION  \n",
       "3              PERPIGNAN                        NaN  \n",
       "4                  NIMES                        NaN  \n",
       "..                   ...                        ...  \n",
       "543          MONTPELLIER                       SARL  \n",
       "544    BOURG LES VALENCE                       SARL  \n",
       "545          MONTPELLIER                      SA CA  \n",
       "546  ST PAUL LES DURANCE                       EPIC  \n",
       "547              BEZIERS                       SARL  \n",
       "\n",
       "[548 rows x 8 columns]"
      ]
     },
     "execution_count": 163,
     "metadata": {},
     "output_type": "execute_result"
    }
   ],
   "source": [
    "dats=dat[[\"Année\", \"FORMATION\", \"DATE_DEB_CONTRAT\", \"DATE_FIN_CONTRAT\", \"NOM_ENTREPRISE\", \"CP_ENTREPRISE\", \"VILLE_ENTREPRISE\", \"FORME_JURIDIQUE_ENTREPRISE\"]]\n",
    "dats"
   ]
  },
  {
   "cell_type": "code",
   "execution_count": 101,
   "id": "b2bfe87e",
   "metadata": {},
   "outputs": [
    {
     "data": {
      "text/plain": [
       "Formation                        object\n",
       "Régime d'inscription             object\n",
       "Individu - Sexe                  object\n",
       "Nationalité                      object\n",
       "Code postal - adresse           float64\n",
       "Ville - adresse                  object\n",
       "Naissance - Date         datetime64[ns]\n",
       "dtype: object"
      ]
     },
     "execution_count": 101,
     "metadata": {},
     "output_type": "execute_result"
    }
   ],
   "source": [
    "data.dtypes"
   ]
  },
  {
   "cell_type": "code",
   "execution_count": 119,
   "id": "5169c5a8",
   "metadata": {},
   "outputs": [
    {
     "name": "stderr",
     "output_type": "stream",
     "text": [
      "C:\\Users\\abdou\\AppData\\Local\\Temp/ipykernel_18700/2317103594.py:1: FutureWarning: As the xlwt package is no longer maintained, the xlwt engine will be removed in a future version of pandas. This is the only engine in pandas that supports writing in the xls format. Install openpyxl and write to an xlsx file instead. You can set the option io.excel.xls.writer to 'xlwt' to silence this warning. While this option is deprecated and will also raise a warning, it can be globally set and the warning suppressed.\n",
      "  donn_2016_2017=data.to_excel('donn_2021-2022_net.xls')\n"
     ]
    }
   ],
   "source": [
    "donn_2016_2017=data.to_excel('donn_2021-2022_net.xls')"
   ]
  },
  {
   "cell_type": "code",
   "execution_count": 69,
   "id": "c4337fc9",
   "metadata": {},
   "outputs": [],
   "source": [
    "df1 = pd.read_excel(xls, '2016-2017')"
   ]
  },
  {
   "cell_type": "code",
   "execution_count": 93,
   "id": "098e7a15",
   "metadata": {},
   "outputs": [
    {
     "name": "stderr",
     "output_type": "stream",
     "text": [
      "C:\\Users\\abdou\\AppData\\Local\\Temp/ipykernel_18700/1960302121.py:1: FutureWarning: As the xlwt package is no longer maintained, the xlwt engine will be removed in a future version of pandas. This is the only engine in pandas that supports writing in the xls format. Install openpyxl and write to an xlsx file instead. You can set the option io.excel.xls.writer to 'xlwt' to silence this warning. While this option is deprecated and will also raise a warning, it can be globally set and the warning suppressed.\n",
      "  donn_2016_2017=data.to_excel('donne_2016-2017_okb.xls')\n"
     ]
    }
   ],
   "source": [
    "donn_2016_2017=data.to_excel('donne_2016-2017_okb.xls')"
   ]
  },
  {
   "cell_type": "code",
   "execution_count": 29,
   "id": "e87e9009",
   "metadata": {},
   "outputs": [
    {
     "data": {
      "text/html": [
       "<div>\n",
       "<style scoped>\n",
       "    .dataframe tbody tr th:only-of-type {\n",
       "        vertical-align: middle;\n",
       "    }\n",
       "\n",
       "    .dataframe tbody tr th {\n",
       "        vertical-align: top;\n",
       "    }\n",
       "\n",
       "    .dataframe thead th {\n",
       "        text-align: right;\n",
       "    }\n",
       "</style>\n",
       "<table border=\"1\" class=\"dataframe\">\n",
       "  <thead>\n",
       "    <tr style=\"text-align: right;\">\n",
       "      <th></th>\n",
       "      <th>Nb de NAN</th>\n",
       "      <th>% de NAN</th>\n",
       "    </tr>\n",
       "  </thead>\n",
       "  <tbody>\n",
       "    <tr>\n",
       "      <th>Code postal - adresse</th>\n",
       "      <td>38</td>\n",
       "      <td>2.92</td>\n",
       "    </tr>\n",
       "    <tr>\n",
       "      <th>Ville - adresse</th>\n",
       "      <td>1</td>\n",
       "      <td>0.08</td>\n",
       "    </tr>\n",
       "  </tbody>\n",
       "</table>\n",
       "</div>"
      ],
      "text/plain": [
       "                       Nb de NAN  % de NAN\n",
       "Code postal - adresse         38      2.92\n",
       "Ville - adresse                1      0.08"
      ]
     },
     "execution_count": 29,
     "metadata": {},
     "output_type": "execute_result"
    }
   ],
   "source": [
    "missing_var=data.isna().sum().sort_values(ascending=False)\n",
    "missing_var=pd.DataFrame(missing_var)\n",
    "missing_var.rename(columns ={0:\"Nb de NAN\"}, inplace= True)\n",
    "missing_var[\"% de NAN\"]=round(data.isna().mean()*100,2).sort_values(ascending=False)\n",
    "missing_var[missing_var[\"Nb de NAN\"]>0]"
   ]
  },
  {
   "cell_type": "code",
   "execution_count": 65,
   "id": "165a3230",
   "metadata": {},
   "outputs": [],
   "source": [
    "xls = pd.ExcelFile('donnr.xls')\n",
    "df1 = pd.read_excel(xls, '2016-2017')\n",
    "df2 = pd.read_excel(xls, '2017-2018')\n",
    "df3 = pd.read_excel(xls, '2018-2019')\n",
    "df4 = pd.read_excel(xls, '2019-2020')\n",
    "df5 = pd.read_excel(xls, '2020-2021')\n",
    "df6 = pd.read_excel(xls, '2021-2022')"
   ]
  },
  {
   "cell_type": "code",
   "execution_count": 74,
   "id": "5dc32f4e",
   "metadata": {},
   "outputs": [
    {
     "data": {
      "text/html": [
       "<div>\n",
       "<style scoped>\n",
       "    .dataframe tbody tr th:only-of-type {\n",
       "        vertical-align: middle;\n",
       "    }\n",
       "\n",
       "    .dataframe tbody tr th {\n",
       "        vertical-align: top;\n",
       "    }\n",
       "\n",
       "    .dataframe thead th {\n",
       "        text-align: right;\n",
       "    }\n",
       "</style>\n",
       "<table border=\"1\" class=\"dataframe\">\n",
       "  <thead>\n",
       "    <tr style=\"text-align: right;\">\n",
       "      <th></th>\n",
       "      <th>Unnamed: 0</th>\n",
       "      <th>Unnamed: 1</th>\n",
       "      <th>Unnamed: 2</th>\n",
       "      <th>Unnamed: 3</th>\n",
       "      <th>Unnamed: 4</th>\n",
       "      <th>Unnamed: 5</th>\n",
       "      <th>Unnamed: 6</th>\n",
       "    </tr>\n",
       "  </thead>\n",
       "  <tbody>\n",
       "    <tr>\n",
       "      <th>0</th>\n",
       "      <td>Année 2021-2022</td>\n",
       "      <td>NaN</td>\n",
       "      <td>NaN</td>\n",
       "      <td>NaN</td>\n",
       "      <td>NaN</td>\n",
       "      <td>NaN</td>\n",
       "      <td>NaN</td>\n",
       "    </tr>\n",
       "    <tr>\n",
       "      <th>1</th>\n",
       "      <td>NaN</td>\n",
       "      <td>NaN</td>\n",
       "      <td>NaN</td>\n",
       "      <td>NaN</td>\n",
       "      <td>NaN</td>\n",
       "      <td>NaN</td>\n",
       "      <td>NaN</td>\n",
       "    </tr>\n",
       "    <tr>\n",
       "      <th>2</th>\n",
       "      <td>FORMATION</td>\n",
       "      <td>Régime d'inscription</td>\n",
       "      <td>Individu - Sexe</td>\n",
       "      <td>Nationalité</td>\n",
       "      <td>Code postal-adresse</td>\n",
       "      <td>Ville-adresse</td>\n",
       "      <td>Naissance - Date</td>\n",
       "    </tr>\n",
       "    <tr>\n",
       "      <th>3</th>\n",
       "      <td>DUT CS Opt Serv.pers.2è a</td>\n",
       "      <td>continue</td>\n",
       "      <td>F</td>\n",
       "      <td>FRANCAIS(E)</td>\n",
       "      <td>34410</td>\n",
       "      <td>SAUVIAN</td>\n",
       "      <td>1975-06-11 00:00:00</td>\n",
       "    </tr>\n",
       "    <tr>\n",
       "      <th>4</th>\n",
       "      <td>DUT CS Opt Serv.pers.2è a</td>\n",
       "      <td>apprentis</td>\n",
       "      <td>F</td>\n",
       "      <td>FRANCAIS(E)</td>\n",
       "      <td>34500</td>\n",
       "      <td>BEZIERS</td>\n",
       "      <td>1999-12-17 00:00:00</td>\n",
       "    </tr>\n",
       "    <tr>\n",
       "      <th>...</th>\n",
       "      <td>...</td>\n",
       "      <td>...</td>\n",
       "      <td>...</td>\n",
       "      <td>...</td>\n",
       "      <td>...</td>\n",
       "      <td>...</td>\n",
       "      <td>...</td>\n",
       "    </tr>\n",
       "    <tr>\n",
       "      <th>956</th>\n",
       "      <td>M2 TO Pcs Tour.&amp; dév. dur</td>\n",
       "      <td>apprentis</td>\n",
       "      <td>M</td>\n",
       "      <td>FRANCAIS(E)</td>\n",
       "      <td>34410</td>\n",
       "      <td>SERIGNAN</td>\n",
       "      <td>1998-04-25 00:00:00</td>\n",
       "    </tr>\n",
       "    <tr>\n",
       "      <th>957</th>\n",
       "      <td>M2 TO Pcs Tour.&amp; dév. dur</td>\n",
       "      <td>initiale</td>\n",
       "      <td>F</td>\n",
       "      <td>ALGERIEN(NE)</td>\n",
       "      <td>13100</td>\n",
       "      <td>AIX-EN-PROVENCE</td>\n",
       "      <td>1995-05-25 00:00:00</td>\n",
       "    </tr>\n",
       "    <tr>\n",
       "      <th>958</th>\n",
       "      <td>M2 TO Pcs Tour.&amp; dév. dur</td>\n",
       "      <td>continue</td>\n",
       "      <td>M</td>\n",
       "      <td>FRANCAIS(E)</td>\n",
       "      <td>34470</td>\n",
       "      <td>PEROLS</td>\n",
       "      <td>1988-09-21 00:00:00</td>\n",
       "    </tr>\n",
       "    <tr>\n",
       "      <th>959</th>\n",
       "      <td>M2 TO Pcs Tour.&amp; dév. dur</td>\n",
       "      <td>apprentis</td>\n",
       "      <td>F</td>\n",
       "      <td>FRANCAIS(E)</td>\n",
       "      <td>79270</td>\n",
       "      <td>FRONTENAY-ROHAN-ROHAN</td>\n",
       "      <td>1994-01-10 00:00:00</td>\n",
       "    </tr>\n",
       "    <tr>\n",
       "      <th>960</th>\n",
       "      <td>M2 TO Pcs Tour.&amp; dév. dur</td>\n",
       "      <td>cont prof</td>\n",
       "      <td>F</td>\n",
       "      <td>FRANCAIS(E)</td>\n",
       "      <td>34500</td>\n",
       "      <td>BEZIERS</td>\n",
       "      <td>1970-03-01 00:00:00</td>\n",
       "    </tr>\n",
       "  </tbody>\n",
       "</table>\n",
       "<p>961 rows × 7 columns</p>\n",
       "</div>"
      ],
      "text/plain": [
       "                    Unnamed: 0            Unnamed: 1       Unnamed: 2  \\\n",
       "0              Année 2021-2022                   NaN              NaN   \n",
       "1                          NaN                   NaN              NaN   \n",
       "2                    FORMATION  Régime d'inscription  Individu - Sexe   \n",
       "3    DUT CS Opt Serv.pers.2è a              continue                F   \n",
       "4    DUT CS Opt Serv.pers.2è a             apprentis                F   \n",
       "..                         ...                   ...              ...   \n",
       "956  M2 TO Pcs Tour.& dév. dur             apprentis                M   \n",
       "957  M2 TO Pcs Tour.& dév. dur              initiale                F   \n",
       "958  M2 TO Pcs Tour.& dév. dur              continue                M   \n",
       "959  M2 TO Pcs Tour.& dév. dur             apprentis                F   \n",
       "960  M2 TO Pcs Tour.& dév. dur             cont prof                F   \n",
       "\n",
       "       Unnamed: 3           Unnamed: 4             Unnamed: 5  \\\n",
       "0             NaN                  NaN                    NaN   \n",
       "1             NaN                  NaN                    NaN   \n",
       "2     Nationalité  Code postal-adresse          Ville-adresse   \n",
       "3     FRANCAIS(E)                34410                SAUVIAN   \n",
       "4     FRANCAIS(E)                34500                BEZIERS   \n",
       "..            ...                  ...                    ...   \n",
       "956   FRANCAIS(E)                34410               SERIGNAN   \n",
       "957  ALGERIEN(NE)                13100        AIX-EN-PROVENCE   \n",
       "958   FRANCAIS(E)                34470                 PEROLS   \n",
       "959   FRANCAIS(E)                79270  FRONTENAY-ROHAN-ROHAN   \n",
       "960   FRANCAIS(E)                34500                BEZIERS   \n",
       "\n",
       "              Unnamed: 6  \n",
       "0                    NaN  \n",
       "1                    NaN  \n",
       "2       Naissance - Date  \n",
       "3    1975-06-11 00:00:00  \n",
       "4    1999-12-17 00:00:00  \n",
       "..                   ...  \n",
       "956  1998-04-25 00:00:00  \n",
       "957  1995-05-25 00:00:00  \n",
       "958  1988-09-21 00:00:00  \n",
       "959  1994-01-10 00:00:00  \n",
       "960  1970-03-01 00:00:00  \n",
       "\n",
       "[961 rows x 7 columns]"
      ]
     },
     "execution_count": 74,
     "metadata": {},
     "output_type": "execute_result"
    }
   ],
   "source": [
    "df6"
   ]
  },
  {
   "cell_type": "code",
   "execution_count": 78,
   "id": "af0791bd",
   "metadata": {},
   "outputs": [],
   "source": [
    "donn_2016_2017=data.to_csv('donn_2016-2017.xls')"
   ]
  },
  {
   "cell_type": "code",
   "execution_count": 77,
   "id": "c0a8551e",
   "metadata": {},
   "outputs": [],
   "source": [
    "donn_2016_2017"
   ]
  },
  {
   "cell_type": "code",
   "execution_count": 56,
   "id": "5c7f7ec7",
   "metadata": {},
   "outputs": [
    {
     "data": {
      "text/html": [
       "<div>\n",
       "<style scoped>\n",
       "    .dataframe tbody tr th:only-of-type {\n",
       "        vertical-align: middle;\n",
       "    }\n",
       "\n",
       "    .dataframe tbody tr th {\n",
       "        vertical-align: top;\n",
       "    }\n",
       "\n",
       "    .dataframe thead th {\n",
       "        text-align: right;\n",
       "    }\n",
       "</style>\n",
       "<table border=\"1\" class=\"dataframe\">\n",
       "  <thead>\n",
       "    <tr style=\"text-align: right;\">\n",
       "      <th></th>\n",
       "      <th>Unnamed: 0</th>\n",
       "      <th>Unnamed: 1</th>\n",
       "      <th>Unnamed: 2</th>\n",
       "      <th>Unnamed: 3</th>\n",
       "      <th>Unnamed: 4</th>\n",
       "      <th>Unnamed: 5</th>\n",
       "      <th>Unnamed: 6</th>\n",
       "    </tr>\n",
       "  </thead>\n",
       "  <tbody>\n",
       "    <tr>\n",
       "      <th>0</th>\n",
       "      <td>Année 2016-2017</td>\n",
       "      <td>NaN</td>\n",
       "      <td>NaN</td>\n",
       "      <td>NaN</td>\n",
       "      <td>NaN</td>\n",
       "      <td>NaN</td>\n",
       "      <td>NaN</td>\n",
       "    </tr>\n",
       "    <tr>\n",
       "      <th>1</th>\n",
       "      <td>NaN</td>\n",
       "      <td>NaN</td>\n",
       "      <td>NaN</td>\n",
       "      <td>NaN</td>\n",
       "      <td>NaN</td>\n",
       "      <td>NaN</td>\n",
       "      <td>NaN</td>\n",
       "    </tr>\n",
       "    <tr>\n",
       "      <th>2</th>\n",
       "      <td>Formation</td>\n",
       "      <td>Régime d'inscription</td>\n",
       "      <td>Individu - Sexe</td>\n",
       "      <td>Nationalité</td>\n",
       "      <td>Code postal - adresse</td>\n",
       "      <td>Ville - adresse</td>\n",
       "      <td>Naissance - Date</td>\n",
       "    </tr>\n",
       "    <tr>\n",
       "      <th>3</th>\n",
       "      <td>DUT CS Opt Serv.pers.1è a</td>\n",
       "      <td>initiale</td>\n",
       "      <td>F</td>\n",
       "      <td>FRANCAIS(E)</td>\n",
       "      <td>34130</td>\n",
       "      <td>MAUGUIO</td>\n",
       "      <td>1987-03-28 00:00:00</td>\n",
       "    </tr>\n",
       "    <tr>\n",
       "      <th>4</th>\n",
       "      <td>DUT CS Opt Serv.pers.1è a</td>\n",
       "      <td>initiale</td>\n",
       "      <td>F</td>\n",
       "      <td>FRANCAIS(E)</td>\n",
       "      <td>34090</td>\n",
       "      <td>MONTPELLIER</td>\n",
       "      <td>1998-07-30 00:00:00</td>\n",
       "    </tr>\n",
       "    <tr>\n",
       "      <th>...</th>\n",
       "      <td>...</td>\n",
       "      <td>...</td>\n",
       "      <td>...</td>\n",
       "      <td>...</td>\n",
       "      <td>...</td>\n",
       "      <td>...</td>\n",
       "      <td>...</td>\n",
       "    </tr>\n",
       "    <tr>\n",
       "      <th>956</th>\n",
       "      <td>M2 TO Pcs Tour.&amp; dév. dur</td>\n",
       "      <td>apprentis</td>\n",
       "      <td>M</td>\n",
       "      <td>FRANCAIS(E)</td>\n",
       "      <td>34410</td>\n",
       "      <td>SERIGNAN</td>\n",
       "      <td>1998-04-25 00:00:00</td>\n",
       "    </tr>\n",
       "    <tr>\n",
       "      <th>957</th>\n",
       "      <td>M2 TO Pcs Tour.&amp; dév. dur</td>\n",
       "      <td>initiale</td>\n",
       "      <td>F</td>\n",
       "      <td>ALGERIEN(NE)</td>\n",
       "      <td>13100</td>\n",
       "      <td>AIX-EN-PROVENCE</td>\n",
       "      <td>1995-05-25 00:00:00</td>\n",
       "    </tr>\n",
       "    <tr>\n",
       "      <th>958</th>\n",
       "      <td>M2 TO Pcs Tour.&amp; dév. dur</td>\n",
       "      <td>continue</td>\n",
       "      <td>M</td>\n",
       "      <td>FRANCAIS(E)</td>\n",
       "      <td>34470</td>\n",
       "      <td>PEROLS</td>\n",
       "      <td>1988-09-21 00:00:00</td>\n",
       "    </tr>\n",
       "    <tr>\n",
       "      <th>959</th>\n",
       "      <td>M2 TO Pcs Tour.&amp; dév. dur</td>\n",
       "      <td>apprentis</td>\n",
       "      <td>F</td>\n",
       "      <td>FRANCAIS(E)</td>\n",
       "      <td>79270</td>\n",
       "      <td>FRONTENAY-ROHAN-ROHAN</td>\n",
       "      <td>1994-01-10 00:00:00</td>\n",
       "    </tr>\n",
       "    <tr>\n",
       "      <th>960</th>\n",
       "      <td>M2 TO Pcs Tour.&amp; dév. dur</td>\n",
       "      <td>cont prof</td>\n",
       "      <td>F</td>\n",
       "      <td>FRANCAIS(E)</td>\n",
       "      <td>34500</td>\n",
       "      <td>BEZIERS</td>\n",
       "      <td>1970-03-01 00:00:00</td>\n",
       "    </tr>\n",
       "  </tbody>\n",
       "</table>\n",
       "<p>6499 rows × 7 columns</p>\n",
       "</div>"
      ],
      "text/plain": [
       "                    Unnamed: 0            Unnamed: 1       Unnamed: 2  \\\n",
       "0              Année 2016-2017                   NaN              NaN   \n",
       "1                          NaN                   NaN              NaN   \n",
       "2                    Formation  Régime d'inscription  Individu - Sexe   \n",
       "3    DUT CS Opt Serv.pers.1è a              initiale                F   \n",
       "4    DUT CS Opt Serv.pers.1è a              initiale                F   \n",
       "..                         ...                   ...              ...   \n",
       "956  M2 TO Pcs Tour.& dév. dur             apprentis                M   \n",
       "957  M2 TO Pcs Tour.& dév. dur              initiale                F   \n",
       "958  M2 TO Pcs Tour.& dév. dur              continue                M   \n",
       "959  M2 TO Pcs Tour.& dév. dur             apprentis                F   \n",
       "960  M2 TO Pcs Tour.& dév. dur             cont prof                F   \n",
       "\n",
       "       Unnamed: 3             Unnamed: 4             Unnamed: 5  \\\n",
       "0             NaN                    NaN                    NaN   \n",
       "1             NaN                    NaN                    NaN   \n",
       "2     Nationalité  Code postal - adresse        Ville - adresse   \n",
       "3     FRANCAIS(E)                  34130                MAUGUIO   \n",
       "4     FRANCAIS(E)                  34090            MONTPELLIER   \n",
       "..            ...                    ...                    ...   \n",
       "956   FRANCAIS(E)                  34410               SERIGNAN   \n",
       "957  ALGERIEN(NE)                  13100        AIX-EN-PROVENCE   \n",
       "958   FRANCAIS(E)                  34470                 PEROLS   \n",
       "959   FRANCAIS(E)                  79270  FRONTENAY-ROHAN-ROHAN   \n",
       "960   FRANCAIS(E)                  34500                BEZIERS   \n",
       "\n",
       "              Unnamed: 6  \n",
       "0                    NaN  \n",
       "1                    NaN  \n",
       "2       Naissance - Date  \n",
       "3    1987-03-28 00:00:00  \n",
       "4    1998-07-30 00:00:00  \n",
       "..                   ...  \n",
       "956  1998-04-25 00:00:00  \n",
       "957  1995-05-25 00:00:00  \n",
       "958  1988-09-21 00:00:00  \n",
       "959  1994-01-10 00:00:00  \n",
       "960  1970-03-01 00:00:00  \n",
       "\n",
       "[6499 rows x 7 columns]"
      ]
     },
     "execution_count": 56,
     "metadata": {},
     "output_type": "execute_result"
    }
   ],
   "source": [
    "donnee_marathonn"
   ]
  },
  {
   "cell_type": "code",
   "execution_count": 39,
   "id": "08f68cc0",
   "metadata": {},
   "outputs": [
    {
     "data": {
      "text/html": [
       "<div>\n",
       "<style scoped>\n",
       "    .dataframe tbody tr th:only-of-type {\n",
       "        vertical-align: middle;\n",
       "    }\n",
       "\n",
       "    .dataframe tbody tr th {\n",
       "        vertical-align: top;\n",
       "    }\n",
       "\n",
       "    .dataframe thead th {\n",
       "        text-align: right;\n",
       "    }\n",
       "</style>\n",
       "<table border=\"1\" class=\"dataframe\">\n",
       "  <thead>\n",
       "    <tr style=\"text-align: right;\">\n",
       "      <th></th>\n",
       "      <th>Unnamed: 0</th>\n",
       "      <th>Unnamed: 1</th>\n",
       "      <th>Unnamed: 2</th>\n",
       "      <th>Unnamed: 3</th>\n",
       "      <th>Unnamed: 4</th>\n",
       "      <th>Unnamed: 5</th>\n",
       "      <th>Unnamed: 6</th>\n",
       "    </tr>\n",
       "  </thead>\n",
       "  <tbody>\n",
       "    <tr>\n",
       "      <th>0</th>\n",
       "      <td>Année 2016-2017</td>\n",
       "      <td>NaN</td>\n",
       "      <td>NaN</td>\n",
       "      <td>NaN</td>\n",
       "      <td>NaN</td>\n",
       "      <td>NaN</td>\n",
       "      <td>NaN</td>\n",
       "    </tr>\n",
       "    <tr>\n",
       "      <th>1</th>\n",
       "      <td>NaN</td>\n",
       "      <td>NaN</td>\n",
       "      <td>NaN</td>\n",
       "      <td>NaN</td>\n",
       "      <td>NaN</td>\n",
       "      <td>NaN</td>\n",
       "      <td>NaN</td>\n",
       "    </tr>\n",
       "    <tr>\n",
       "      <th>2</th>\n",
       "      <td>Formation</td>\n",
       "      <td>Régime d'inscription</td>\n",
       "      <td>Individu - Sexe</td>\n",
       "      <td>Nationalité</td>\n",
       "      <td>Code postal - adresse</td>\n",
       "      <td>Ville - adresse</td>\n",
       "      <td>Naissance - Date</td>\n",
       "    </tr>\n",
       "    <tr>\n",
       "      <th>3</th>\n",
       "      <td>DUT CS Opt Serv.pers.1è a</td>\n",
       "      <td>initiale</td>\n",
       "      <td>F</td>\n",
       "      <td>FRANCAIS(E)</td>\n",
       "      <td>34130</td>\n",
       "      <td>MAUGUIO</td>\n",
       "      <td>1987-03-28 00:00:00</td>\n",
       "    </tr>\n",
       "    <tr>\n",
       "      <th>4</th>\n",
       "      <td>DUT CS Opt Serv.pers.1è a</td>\n",
       "      <td>initiale</td>\n",
       "      <td>F</td>\n",
       "      <td>FRANCAIS(E)</td>\n",
       "      <td>34090</td>\n",
       "      <td>MONTPELLIER</td>\n",
       "      <td>1998-07-30 00:00:00</td>\n",
       "    </tr>\n",
       "    <tr>\n",
       "      <th>...</th>\n",
       "      <td>...</td>\n",
       "      <td>...</td>\n",
       "      <td>...</td>\n",
       "      <td>...</td>\n",
       "      <td>...</td>\n",
       "      <td>...</td>\n",
       "      <td>...</td>\n",
       "    </tr>\n",
       "    <tr>\n",
       "      <th>1298</th>\n",
       "      <td>M2 TO Pcs Tour.&amp; dév. dur</td>\n",
       "      <td>initiale</td>\n",
       "      <td>M</td>\n",
       "      <td>CHINOIS(E)</td>\n",
       "      <td>94000</td>\n",
       "      <td>CRETEIL</td>\n",
       "      <td>1986-08-18 00:00:00</td>\n",
       "    </tr>\n",
       "    <tr>\n",
       "      <th>1299</th>\n",
       "      <td>M2 TO Pcs Tour.&amp; dév. dur</td>\n",
       "      <td>initiale</td>\n",
       "      <td>F</td>\n",
       "      <td>FRANCAIS(E)</td>\n",
       "      <td>59130</td>\n",
       "      <td>LAMBERSART</td>\n",
       "      <td>1993-11-06 00:00:00</td>\n",
       "    </tr>\n",
       "    <tr>\n",
       "      <th>1300</th>\n",
       "      <td>M2 TO Pcs Tour.&amp; dév. dur</td>\n",
       "      <td>continue</td>\n",
       "      <td>F</td>\n",
       "      <td>FRANCAIS(E)</td>\n",
       "      <td>34070</td>\n",
       "      <td>MONTPELLIER</td>\n",
       "      <td>1986-12-19 00:00:00</td>\n",
       "    </tr>\n",
       "    <tr>\n",
       "      <th>1301</th>\n",
       "      <td>M2 TO Pcs Tour.&amp; dév. dur</td>\n",
       "      <td>initiale</td>\n",
       "      <td>M</td>\n",
       "      <td>IRANIEN(NE)</td>\n",
       "      <td>34500</td>\n",
       "      <td>BEZIERS</td>\n",
       "      <td>1977-06-08 00:00:00</td>\n",
       "    </tr>\n",
       "    <tr>\n",
       "      <th>1302</th>\n",
       "      <td>M2 TO Pcs Tour.&amp; dév. dur</td>\n",
       "      <td>initiale</td>\n",
       "      <td>M</td>\n",
       "      <td>FRANCAIS(E)</td>\n",
       "      <td>94320</td>\n",
       "      <td>THIAIS</td>\n",
       "      <td>1993-04-26 00:00:00</td>\n",
       "    </tr>\n",
       "  </tbody>\n",
       "</table>\n",
       "<p>1303 rows × 7 columns</p>\n",
       "</div>"
      ],
      "text/plain": [
       "                     Unnamed: 0            Unnamed: 1       Unnamed: 2  \\\n",
       "0               Année 2016-2017                   NaN              NaN   \n",
       "1                           NaN                   NaN              NaN   \n",
       "2                     Formation  Régime d'inscription  Individu - Sexe   \n",
       "3     DUT CS Opt Serv.pers.1è a              initiale                F   \n",
       "4     DUT CS Opt Serv.pers.1è a              initiale                F   \n",
       "...                         ...                   ...              ...   \n",
       "1298  M2 TO Pcs Tour.& dév. dur              initiale                M   \n",
       "1299  M2 TO Pcs Tour.& dév. dur              initiale                F   \n",
       "1300  M2 TO Pcs Tour.& dév. dur              continue                F   \n",
       "1301  M2 TO Pcs Tour.& dév. dur              initiale                M   \n",
       "1302  M2 TO Pcs Tour.& dév. dur              initiale                M   \n",
       "\n",
       "       Unnamed: 3             Unnamed: 4       Unnamed: 5           Unnamed: 6  \n",
       "0             NaN                    NaN              NaN                  NaN  \n",
       "1             NaN                    NaN              NaN                  NaN  \n",
       "2     Nationalité  Code postal - adresse  Ville - adresse     Naissance - Date  \n",
       "3     FRANCAIS(E)                  34130          MAUGUIO  1987-03-28 00:00:00  \n",
       "4     FRANCAIS(E)                  34090      MONTPELLIER  1998-07-30 00:00:00  \n",
       "...           ...                    ...              ...                  ...  \n",
       "1298   CHINOIS(E)                  94000          CRETEIL  1986-08-18 00:00:00  \n",
       "1299  FRANCAIS(E)                  59130       LAMBERSART  1993-11-06 00:00:00  \n",
       "1300  FRANCAIS(E)                  34070      MONTPELLIER  1986-12-19 00:00:00  \n",
       "1301  IRANIEN(NE)                  34500          BEZIERS  1977-06-08 00:00:00  \n",
       "1302  FRANCAIS(E)                  94320           THIAIS  1993-04-26 00:00:00  \n",
       "\n",
       "[1303 rows x 7 columns]"
      ]
     },
     "execution_count": 39,
     "metadata": {},
     "output_type": "execute_result"
    }
   ],
   "source": [
    "df1"
   ]
  }
 ],
 "metadata": {
  "kernelspec": {
   "display_name": "Python 3 (ipykernel)",
   "language": "python",
   "name": "python3"
  },
  "language_info": {
   "codemirror_mode": {
    "name": "ipython",
    "version": 3
   },
   "file_extension": ".py",
   "mimetype": "text/x-python",
   "name": "python",
   "nbconvert_exporter": "python",
   "pygments_lexer": "ipython3",
   "version": "3.9.7"
  }
 },
 "nbformat": 4,
 "nbformat_minor": 5
}
